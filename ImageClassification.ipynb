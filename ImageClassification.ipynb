{
 "cells": [
  {
   "cell_type": "markdown",
   "metadata": {
    "id": "XDDbguyGU8Fs",
    "pycharm": {
     "name": "#%% md\n"
    }
   },
   "source": [
    "# Clothing image classification"
   ]
  },
  {
   "cell_type": "markdown",
   "metadata": {
    "id": "JLkWLC8f3HZI"
   },
   "source": [
    "## Fashion MNIST with Pytorch\n",
    "Fashion MNIST dataset contains 70,000 grayscale images in 10 categories. The images show individual articles of clothing at low resolution (28 by 28 pixels), as seen here:\n",
    "\n",
    "<table>\n",
    "  <tr><td>\n",
    "    <img src=\"https://i.postimg.cc/RVVCnL8w/mnist-fa-torch.png\"\n",
    "         alt=\"Fashion MNIST sprite\"  width=\"600\">\n",
    "  </td></tr>\n",
    "  \n",
    "</table>\n"
   ]
  },
  {
   "cell_type": "markdown",
   "metadata": {
    "id": "WiRxNFCn3Vxd"
   },
   "source": [
    "Loading the dataset returns four NumPy arrays:\n",
    "\n",
    "* The `train_images` and `train_labels` arrays are the *training set*—the data the model uses to learn.\n",
    "* The model is tested against the *test set*, the `test_images`, and `test_labels` arrays.\n",
    "\n",
    "The images are 28x28 NumPy arrays, with pixel values ranging between 0 and 255. The *labels* are an array of integers, ranging from 0 to 9. These correspond to the *class* of clothing the image represents:\n",
    "\n",
    "<table>\n",
    "  <tr>\n",
    "    <th>Label</th>\n",
    "    <th>Class</th>\n",
    "  </tr>\n",
    "  <tr>\n",
    "    <td>0</td>\n",
    "    <td>T-shirt/top</td>\n",
    "  </tr>\n",
    "  <tr>\n",
    "    <td>1</td>\n",
    "    <td>Trouser</td>\n",
    "  </tr>\n",
    "    <tr>\n",
    "    <td>2</td>\n",
    "    <td>Pullover</td>\n",
    "  </tr>\n",
    "    <tr>\n",
    "    <td>3</td>\n",
    "    <td>Dress</td>\n",
    "  </tr>\n",
    "    <tr>\n",
    "    <td>4</td>\n",
    "    <td>Coat</td>\n",
    "  </tr>\n",
    "    <tr>\n",
    "    <td>5</td>\n",
    "    <td>Sandal</td>\n",
    "  </tr>\n",
    "    <tr>\n",
    "    <td>6</td>\n",
    "    <td>Shirt</td>\n",
    "  </tr>\n",
    "    <tr>\n",
    "    <td>7</td>\n",
    "    <td>Sneaker</td>\n",
    "  </tr>\n",
    "    <tr>\n",
    "    <td>8</td>\n",
    "    <td>Bag</td>\n",
    "  </tr>\n",
    "    <tr>\n",
    "    <td>9</td>\n",
    "    <td>Ankle boot</td>\n",
    "  </tr>\n",
    "</table>\n",
    "\n",
    "<br>"
   ]
  },
  {
   "cell_type": "markdown",
   "metadata": {
    "id": "EU8d54pEU8GF",
    "pycharm": {
     "name": "#%% md\n"
    }
   },
   "source": [
    "# Neural Network with Pytorch (Binary Classification)"
   ]
  },
  {
   "cell_type": "markdown",
   "metadata": {
    "id": "UPCSaccR32De"
   },
   "source": [
    "## Import Libraries"
   ]
  },
  {
   "cell_type": "code",
   "execution_count": 1,
   "metadata": {
    "colab": {
     "base_uri": "https://localhost:8080/"
    },
    "id": "RyvoZdAXU8GG",
    "outputId": "ba8225cf-7072-4f7e-8bc0-ad9f3e2ab8d8",
    "pycharm": {
     "name": "#%%\n"
    }
   },
   "outputs": [
    {
     "name": "stdout",
     "output_type": "stream",
     "text": [
      "Using cuda device\n"
     ]
    }
   ],
   "source": [
    "import torch\n",
    "import numpy as np\n",
    "import torch.nn as nn\n",
    "import torch.nn.functional as F\n",
    "from torch.utils import data\n",
    "from sklearn.model_selection import train_test_split\n",
    "from sklearn.datasets import fetch_openml\n",
    "import matplotlib.pyplot as plt\n",
    "from sklearn.metrics import classification_report\n",
    "import tensorflow as tf\n",
    "from tensorflow import keras\n",
    "from keras.datasets import mnist\n",
    "device = \"cuda\" if torch.cuda.is_available() else \"cpu\"\n",
    "# device = \"cpu\"\n",
    "print(f\"Using {device} device\")"
   ]
  },
  {
   "cell_type": "markdown",
   "metadata": {
    "id": "Q1WPjPPR6Wpr"
   },
   "source": [
    "## Load Dataset"
   ]
  },
  {
   "cell_type": "code",
   "execution_count": 2,
   "metadata": {
    "colab": {
     "base_uri": "https://localhost:8080/",
     "height": 421
    },
    "id": "-oESjif0xw8m",
    "outputId": "8a6c66a2-ed7a-49f2-b501-668bf5a4a97c"
   },
   "outputs": [
    {
     "name": "stdout",
     "output_type": "stream",
     "text": [
      "Downloading data from https://storage.googleapis.com/tensorflow/tf-keras-datasets/train-labels-idx1-ubyte.gz\n",
      "29515/29515 [==============================] - 0s 0us/step\n",
      "Downloading data from https://storage.googleapis.com/tensorflow/tf-keras-datasets/train-images-idx3-ubyte.gz\n",
      "26421880/26421880 [==============================] - 3s 0us/step\n",
      "Downloading data from https://storage.googleapis.com/tensorflow/tf-keras-datasets/t10k-labels-idx1-ubyte.gz\n",
      "5148/5148 [==============================] - 0s 0us/step\n",
      "Downloading data from https://storage.googleapis.com/tensorflow/tf-keras-datasets/t10k-images-idx3-ubyte.gz\n",
      "4422102/4422102 [==============================] - 0s 0us/step\n",
      "(28, 28)\n"
     ]
    },
    {
     "data": {
      "image/png": "[encoded data removed]",
      "text/plain": [
       "<Figure size 432x288 with 1 Axes>"
      ]
     },
     "metadata": {
      "needs_background": "light"
     },
     "output_type": "display_data"
    }
   ],
   "source": [
    "import torchvision\n",
    "\n",
    "fashion_mnist = keras.datasets.fashion_mnist\n",
    "(X_train, y_train), (X_test, y_test) = fashion_mnist.load_data()\n",
    "\n",
    "\n",
    "print(X_test[1].shape)\n",
    "plt.imshow(X_test[1])\n",
    "plt.show()"
   ]
  },
  {
   "cell_type": "markdown",
   "metadata": {
    "id": "6Sm0udbSU8GG",
    "pycharm": {
     "name": "#%% md\n"
    }
   },
   "source": [
    "## Data preprocessing"
   ]
  },
  {
   "cell_type": "markdown",
   "metadata": {
    "id": "ZZAUfLmVU8GH",
    "pycharm": {
     "name": "#%% md\n"
    }
   },
   "source": [
    "### Feature scaling"
   ]
  },
  {
   "cell_type": "code",
   "execution_count": 3,
   "metadata": {
    "colab": {
     "base_uri": "https://localhost:8080/"
    },
    "id": "hzqQphx7U8GH",
    "outputId": "39ac5837-f19c-4cff-c7cc-9c0ea08179da",
    "pycharm": {
     "name": "#%%\n"
    }
   },
   "outputs": [
    {
     "name": "stdout",
     "output_type": "stream",
     "text": [
      "(60000, 28, 28)\n",
      "(10000, 28, 28)\n",
      "60000\n"
     ]
    }
   ],
   "source": [
    "X_train = X_train/255.0\n",
    "X_test = X_test/255.0\n",
    "\n",
    "print(X_train.shape)\n",
    "print(X_test.shape)\n",
    "print(len(y_train))"
   ]
  },
  {
   "cell_type": "markdown",
   "metadata": {
    "id": "YSzvJ196GkvO"
   },
   "source": [
    "### Select two classes"
   ]
  },
  {
   "cell_type": "markdown",
   "metadata": {},
   "source": [
    "#### Split the data into two classes"
   ]
  },
  {
   "cell_type": "code",
   "execution_count": 4,
   "metadata": {
    "id": "yjpHGlrmGlbe"
   },
   "outputs": [],
   "source": [
    "feature1 = 7\n",
    "feature2 = 0\n",
    "\n",
    "train_filter_arr_x = []\n",
    "train_filter_arr_y = []\n",
    "test_filter_arr_x = []\n",
    "test_filter_arr_y = []\n",
    "\n",
    "for i in range(0,len(y_train)):\n",
    "    if y_train[i] == feature1:\n",
    "      train_filter_arr_x.append(X_train[i])\n",
    "      train_filter_arr_y.append(1)\n",
    "    elif y_train[i] == feature2:\n",
    "      train_filter_arr_x.append(X_train[i])\n",
    "      train_filter_arr_y.append(0)\n",
    "\n",
    "for i in range(0,len(y_test)):\n",
    "    if y_test[i] == feature1:\n",
    "      test_filter_arr_x.append(X_test[i])\n",
    "      test_filter_arr_y.append(1)\n",
    "    elif y_test[i] == feature2:\n",
    "      test_filter_arr_x.append(X_test[i])\n",
    "      test_filter_arr_y.append(0)\n",
    "\n"
   ]
  },
  {
   "cell_type": "markdown",
   "metadata": {},
   "source": [
    "#### Class for the data set"
   ]
  },
  {
   "cell_type": "code",
   "execution_count": 5,
   "metadata": {
    "id": "QY3Bvfj4gq1C"
   },
   "outputs": [],
   "source": [
    "class MyDataset(data.Dataset):\n",
    "  def __init__(self,X,Y):\n",
    "    self.X = X\n",
    "    self.Y = Y\n",
    "  def __len__(self):\n",
    "    return len(self.Y)\n",
    "  def __getitem__(self,index):\n",
    "    X = self.X[index].float().reshape(-1)\n",
    "    Y = self.Y[index].long()\n",
    "    return X,Y"
   ]
  },
  {
   "cell_type": "markdown",
   "metadata": {},
   "source": [
    "#### Converting the filtered data into torch, split the data into Dataloader"
   ]
  },
  {
   "cell_type": "code",
   "execution_count": 6,
   "metadata": {
    "id": "PrJ6v0ACU8GI",
    "pycharm": {
     "name": "#%%\n"
    }
   },
   "outputs": [],
   "source": [
    "from torch.utils.data import DataLoader, RandomSampler\n",
    "\n",
    "trainX = np.array(train_filter_arr_x)\n",
    "trainY =  np.array(train_filter_arr_y)\n",
    "testX = np.array(test_filter_arr_x)\n",
    "testY =  np.array(test_filter_arr_y)\n",
    "\n",
    "\n",
    "\n",
    "train_dataset = MyDataset(torch.from_numpy(trainX).float(),torch.from_numpy(trainY))\n",
    "train_loader_args = dict(shuffle = True,batch_size = 256, num_workers = 0)\n",
    "train_loader = DataLoader(train_dataset, **train_loader_args)\n",
    "\n",
    "\n",
    "\n",
    "test_dataset = MyDataset(torch.from_numpy(testX).float(),torch.from_numpy(testY))\n",
    "test_loader_args = dict(shuffle = True,batch_size = 256, num_workers = 0)\n",
    "test_loader = DataLoader(test_dataset, **test_loader_args)"
   ]
  },
  {
   "cell_type": "markdown",
   "metadata": {
    "id": "jwIzE9kSU8GI",
    "pycharm": {
     "name": "#%% md\n"
    }
   },
   "source": [
    "### Build the network layers"
   ]
  },
  {
   "cell_type": "code",
   "execution_count": 7,
   "metadata": {
    "id": "U3IepEv6U8GI",
    "pycharm": {
     "is_executing": true,
     "name": "#%%\n"
    }
   },
   "outputs": [],
   "source": [
    "from torch import nn\n",
    "import torch.nn.functional as F\n",
    "\n",
    "class NeuralNetwork(nn.Module):\n",
    "  def __init__(self,layer_list):\n",
    "      super(NeuralNetwork,self).__init__()\n",
    "      layers = []\n",
    "      self.layer_list = layer_list\n",
    "      for i in range(len(layer_list)-2):\n",
    "          layers.append(nn.Linear(layer_list[i],layer_list[i+1]))\n",
    "          layers.append(nn.ReLU())\n",
    "      layers.append(nn.Linear(layer_list[-2],layer_list[-1]))\n",
    "      self.net = nn.Sequential(*layers)\n",
    "  \n",
    "\n",
    "  def forward(self, x):\n",
    "    return self.net(x)\n",
    "\n",
    "  def predict_bin(self, x_input):\n",
    "      preds = []\n",
    "      ready_input = torch.from_numpy(x_input).float().to(device)\n",
    "      model = self\n",
    "      for i in range(0,len(ready_input)):\n",
    "        prediction = model(ready_input[i].reshape(-1)).item()\n",
    "        if( prediction < 0):\n",
    "          prediction = 0\n",
    "        else:\n",
    "          prediction = 1\n",
    "        preds.append(prediction)\n",
    "      return preds\n",
    "\n",
    "  def predict(self, x_input):\n",
    "      preds = []\n",
    "      ready_input = torch.from_numpy(x_input).float().to(device)\n",
    "      model = self\n",
    "      for i in range(0,len(ready_input)):\n",
    "        preds.append(model(ready_input[i].reshape(-1)).argmax().item())\n",
    "\n",
    "      return preds"
   ]
  },
  {
   "cell_type": "code",
   "execution_count": 8,
   "metadata": {
    "colab": {
     "base_uri": "https://localhost:8080/"
    },
    "id": "urRRwc_-wvot",
    "outputId": "629237a0-0376-47f2-fd38-88ad14b892f0"
   },
   "outputs": [
    {
     "name": "stdout",
     "output_type": "stream",
     "text": [
      "NeuralNetwork(\n",
      "  (net): Sequential(\n",
      "    (0): Linear(in_features=784, out_features=10, bias=True)\n",
      "    (1): ReLU()\n",
      "    (2): Linear(in_features=10, out_features=1, bias=True)\n",
      "  )\n",
      ")\n"
     ]
    }
   ],
   "source": [
    "model = NeuralNetwork([784,10,1]).to(device)\n",
    "\n",
    "print(model)"
   ]
  },
  {
   "cell_type": "markdown",
   "metadata": {
    "id": "VH6cuNVOU8GJ",
    "pycharm": {
     "name": "#%% md\n"
    }
   },
   "source": [
    "### Build the Optimizer"
   ]
  },
  {
   "cell_type": "code",
   "execution_count": 9,
   "metadata": {
    "id": "2Xndbe19U8GJ",
    "pycharm": {
     "name": "#%%\n"
    }
   },
   "outputs": [],
   "source": [
    "from torch import optim\n",
    "optimizer = optim.SGD(model.parameters(), lr= 0.01)"
   ]
  },
  {
   "cell_type": "markdown",
   "metadata": {
    "id": "caZLAbsDxCFW"
   },
   "source": [
    "### Loss Function"
   ]
  },
  {
   "cell_type": "code",
   "execution_count": 10,
   "metadata": {
    "id": "n9YuCsxFxDEl"
   },
   "outputs": [],
   "source": [
    "loss = nn.BCEWithLogitsLoss()"
   ]
  },
  {
   "cell_type": "markdown",
   "metadata": {
    "id": "c7kXhHkoU8GJ",
    "pycharm": {
     "name": "#%% md\n"
    }
   },
   "source": [
    "### Training"
   ]
  },
  {
   "cell_type": "markdown",
   "metadata": {
    "id": "GXyz2h4Ha2BY"
   },
   "source": [
    "##### Train helper functions"
   ]
  },
  {
   "cell_type": "code",
   "execution_count": 11,
   "metadata": {
    "id": "1Ahuf9bmwxta"
   },
   "outputs": [],
   "source": [
    "import time \n",
    "\n",
    "def train_epoch_bin(model,train_loader,criterion,optimizer):\n",
    "    model.train()\n",
    "    model.to(device)\n",
    "    running_loss = 0.0\n",
    "    correct_values = 0.0\n",
    "    for batch_idx,(data,target) in enumerate(train_loader):\n",
    "        optimizer.zero_grad()\n",
    "        data = data.to(device)\n",
    "        target = target.to(device)\n",
    "        outputs = model(data)\n",
    "        outputs = outputs.reshape(-1) \n",
    "        current_loss = criterion(outputs,target.float())\n",
    "        running_loss += current_loss.item()\n",
    "        \n",
    "        current_loss.backward()\n",
    "        optimizer.step()\n",
    "        predicted = outputs\n",
    "        predicted[predicted<0] = 0\n",
    "        predicted[predicted>0] = 1\n",
    "        correct_values += (predicted == target).sum().item()\n",
    "\n",
    "    running_loss /= len(train_loader)\n",
    "    correct_values = correct_values/(len(train_loader.dataset.Y))*100\n",
    "    print(\"Train Loss is \",running_loss)\n",
    "    print(\"Train acc is \",(correct_values),'%')\n",
    "    return running_loss,correct_values\n",
    "\n",
    "def train_epoch_multi(model,train_loader,criterion,optimizer):\n",
    "    model.train()\n",
    "    model.to(device)\n",
    "    running_loss = 0.0\n",
    "    correct_values = 0.0\n",
    "    start_time = time.time()\n",
    "    for batch_idx,(data,target) in enumerate(train_loader):\n",
    "        optimizer.zero_grad()\n",
    "        data = data.to(device)\n",
    "        target = target.to(device)\n",
    "        \n",
    "        outputs = model(data)\n",
    "        loss = criterion(outputs,target)\n",
    "        running_loss += loss.item()\n",
    "        \n",
    "        loss.backward()\n",
    "        optimizer.step()\n",
    "        _,predicted = torch.max(outputs.data,1)\n",
    "        correct_values += (predicted==target).sum().item()  \n",
    "    end_time = time.time()\n",
    "    \n",
    "    running_loss /= len(train_loader)\n",
    "    correct_values = correct_values/(len(train_loader.dataset.Y))*100\n",
    "    print(\"Train Loss is \",running_loss, \" and time is \",end_time-start_time,'s')\n",
    "    print(\"Train acc is \",(correct_values),'%')\n",
    "    return running_loss,correct_values    \n"
   ]
  },
  {
   "cell_type": "markdown",
   "metadata": {},
   "source": [
    "#### Test functions"
   ]
  },
  {
   "cell_type": "code",
   "execution_count": 12,
   "metadata": {
    "id": "4_f9eqcrbwj9"
   },
   "outputs": [],
   "source": [
    "\n",
    "def test_model_bin(model,test_loader,criterion):\n",
    "    with torch.no_grad():\n",
    "        model.eval()\n",
    "        model.to(device)\n",
    "        running_loss = 0.0\n",
    "        total_predictions = 0\n",
    "        correct_predictions = 0\n",
    "        for batch_idx,(data,target) in enumerate(test_loader):\n",
    "            data = data.to(device)\n",
    "            target = target.to(device)\n",
    "            outputs = model(data)  \n",
    "            outputs = outputs.reshape(-1)\n",
    "            predicted = outputs\n",
    "            predicted[predicted<0] = 0\n",
    "            predicted[predicted>0] = 1\n",
    "            total_predictions += target.size(0) \n",
    "            correct_predictions += (predicted==target).sum().item()\n",
    "            current_loss = criterion(outputs, target.float()).detach()\n",
    "            running_loss += current_loss.item()\n",
    "            \n",
    "        running_loss /= len(test_loader)\n",
    "        acc = (correct_predictions/total_predictions)*100.0\n",
    "        print('Test Loss ',running_loss)\n",
    "        print('Test Acc ', acc,'%')\n",
    "        return running_loss,acc\n",
    "\n",
    "def test_model_multi(model,test_loader,criterion):\n",
    "    with torch.no_grad():\n",
    "        model.eval()\n",
    "        model.to(device)\n",
    "        running_loss = 0.0\n",
    "        total_predictions = 0\n",
    "        correct_predictions = 0\n",
    "        for batch_idx,(data,target) in enumerate(test_loader):\n",
    "            data = data.to(device)\n",
    "            target = target.to(device)\n",
    "            outputs = model(data)           \n",
    "            _,predicted = torch.max(outputs.data,1)\n",
    "            total_predictions += target.size(0)\n",
    "            correct_predictions += (predicted==target).sum().item()       \n",
    "            loss = criterion(outputs,target).detach()\n",
    "            running_loss += loss.item()\n",
    "        running_loss /= len(test_loader)\n",
    "        acc = (correct_predictions/total_predictions)*100.0\n",
    "        print('Test Loss ',running_loss)\n",
    "        print('Test Acc ', acc,'%')\n",
    "        return running_loss,acc"
   ]
  },
  {
   "cell_type": "markdown",
   "metadata": {},
   "source": [
    "#### Train the model and evaluate the model."
   ]
  },
  {
   "cell_type": "code",
   "execution_count": 13,
   "metadata": {
    "colab": {
     "base_uri": "https://localhost:8080/"
    },
    "id": "Sq1KOMEeU8GJ",
    "outputId": "13648f97-0a47-4c55-8614-11cdef6f005b",
    "pycharm": {
     "name": "#%%\n"
    }
   },
   "outputs": [
    {
     "name": "stdout",
     "output_type": "stream",
     "text": [
      "Train Loss is  0.446231576990574\n",
      "Train acc is  91.11666666666667 %\n",
      "Train Loss is  0.19250898158296625\n",
      "Train acc is  99.69166666666666 %\n",
      "Train Loss is  0.10818328296250486\n",
      "Train acc is  99.75833333333334 %\n",
      "Train Loss is  0.07271225829707816\n",
      "Train acc is  99.725 %\n",
      "Train Loss is  0.05463216691575152\n",
      "Train acc is  99.75833333333334 %\n",
      "Train Loss is  0.043961664146565375\n",
      "Train acc is  99.78333333333333 %\n",
      "Train Loss is  0.037016641229708144\n",
      "Train acc is  99.78333333333333 %\n",
      "Train Loss is  0.03212238816504783\n",
      "Train acc is  99.78333333333333 %\n",
      "Train Loss is  0.028536589578428168\n",
      "Train acc is  99.78333333333333 %\n",
      "Train Loss is  0.025778593772903403\n",
      "Train acc is  99.79166666666667 %\n",
      "Train Loss is  0.023581544175109964\n",
      "Train acc is  99.8 %\n",
      "Train Loss is  0.02180411904416186\n",
      "Train acc is  99.8 %\n",
      "Train Loss is  0.020334741932914614\n",
      "Train acc is  99.80833333333334 %\n",
      "Train Loss is  0.01908936264350059\n",
      "Train acc is  99.81666666666666 %\n",
      "Train Loss is  0.01802224852144718\n",
      "Train acc is  99.81666666666666 %\n"
     ]
    }
   ],
   "source": [
    "numner_of_epochs = 15\n",
    "\n",
    "eval_losses=[]\n",
    "eval_accu=[]\n",
    "\n",
    "for epoch in range(numner_of_epochs):\n",
    "  train_loss,train_acc = train_epoch_bin(model,train_loader,loss,optimizer)\n",
    "  eval_losses.append(train_loss)\n",
    "  eval_accu.append(train_acc)\n"
   ]
  },
  {
   "cell_type": "markdown",
   "metadata": {
    "id": "zS3_ZnXk450S"
   },
   "source": [
    "### Save Trained model (weights)"
   ]
  },
  {
   "cell_type": "code",
   "execution_count": 14,
   "metadata": {
    "id": "Pb66kyHa5c-l"
   },
   "outputs": [],
   "source": [
    "# SAVE THE TRAINED MODEL\n",
    "PATH = \"BinaryClassification.pt\"\n",
    "\n",
    "# Save\n",
    "torch.save(model.state_dict(), PATH)\n"
   ]
  },
  {
   "cell_type": "markdown",
   "metadata": {
    "id": "bkNYD1oRU8GK",
    "pycharm": {
     "name": "#%% md\n"
    }
   },
   "source": [
    "### Loss and Accuracy Visualization\n",
    "Show  on plot the lose during training"
   ]
  },
  {
   "cell_type": "code",
   "execution_count": 15,
   "metadata": {
    "colab": {
     "base_uri": "https://localhost:8080/",
     "height": 282
    },
    "id": "iM8si3EBU8GK",
    "outputId": "94ed7b9a-fdc6-4b4d-cc0d-d4efadf85bd6",
    "pycharm": {
     "name": "#%%\n"
    }
   },
   "outputs": [
    {
     "data": {
      "text/plain": [
       "[<matplotlib.lines.Line2D at 0x7f5ae3082520>]"
      ]
     },
     "execution_count": 15,
     "metadata": {},
     "output_type": "execute_result"
    },
    {
     "data": {
      "image/png": "[encoded data removed]",
      "text/plain": [
       "<Figure size 432x288 with 1 Axes>"
      ]
     },
     "metadata": {
      "needs_background": "light"
     },
     "output_type": "display_data"
    }
   ],
   "source": [
    "import matplotlib.pyplot as plt\n",
    "plt.plot(eval_losses)"
   ]
  },
  {
   "cell_type": "markdown",
   "metadata": {
    "id": "w4JBO5zuU8GK",
    "pycharm": {
     "name": "#%% md\n"
    }
   },
   "source": [
    "Show  on plot the accuracy during training"
   ]
  },
  {
   "cell_type": "code",
   "execution_count": 16,
   "metadata": {
    "colab": {
     "base_uri": "https://localhost:8080/",
     "height": 282
    },
    "id": "hOCsxuuTU8GK",
    "outputId": "24ad9e79-ab5a-481a-fb01-2bf2aa98812f",
    "pycharm": {
     "name": "#%%\n"
    }
   },
   "outputs": [
    {
     "data": {
      "text/plain": [
       "[<matplotlib.lines.Line2D at 0x7f5ae2a5df40>]"
      ]
     },
     "execution_count": 16,
     "metadata": {},
     "output_type": "execute_result"
    },
    {
     "data": {
      "image/png": "[encoded data removed]",
      "text/plain": [
       "<Figure size 432x288 with 1 Axes>"
      ]
     },
     "metadata": {
      "needs_background": "light"
     },
     "output_type": "display_data"
    }
   ],
   "source": [
    "plt.plot(eval_accu)"
   ]
  },
  {
   "cell_type": "markdown",
   "metadata": {
    "id": "SAUlD1ypU8GL",
    "pycharm": {
     "name": "#%% md\n"
    }
   },
   "source": [
    "### Test"
   ]
  },
  {
   "cell_type": "code",
   "execution_count": 17,
   "metadata": {
    "id": "rukB7UefU8GL",
    "pycharm": {
     "name": "#%%\n"
    }
   },
   "outputs": [],
   "source": [
    "from sklearn.metrics import accuracy_score\n",
    "y_pred = model.predict_bin(testX)\n",
    "\n"
   ]
  },
  {
   "cell_type": "markdown",
   "metadata": {
    "id": "ClevveJ3U8GL",
    "pycharm": {
     "name": "#%% md\n"
    }
   },
   "source": [
    "### Model Evaluation"
   ]
  },
  {
   "cell_type": "code",
   "execution_count": 18,
   "metadata": {
    "colab": {
     "base_uri": "https://localhost:8080/"
    },
    "id": "siYDD1MIbnxt",
    "outputId": "6dc766ff-51a8-4210-c88d-5110d55c4ca9"
   },
   "outputs": [
    {
     "name": "stdout",
     "output_type": "stream",
     "text": [
      "Accuracy: 0.9985\n"
     ]
    }
   ],
   "source": [
    "print(\"Accuracy:\", accuracy_score(testY,y_pred))"
   ]
  },
  {
   "cell_type": "markdown",
   "metadata": {},
   "source": [
    "#### Confusion matrix"
   ]
  },
  {
   "cell_type": "code",
   "execution_count": 19,
   "metadata": {
    "colab": {
     "base_uri": "https://localhost:8080/",
     "height": 283
    },
    "id": "KHQVaRZKU8GL",
    "outputId": "2366408c-1f6a-4a7c-8ea0-7f50afa9dda6",
    "pycharm": {
     "name": "#%%\n"
    }
   },
   "outputs": [
    {
     "data": {
      "image/png": "[encoded data removed]",
      "text/plain": [
       "<Figure size 432x288 with 2 Axes>"
      ]
     },
     "metadata": {
      "needs_background": "light"
     },
     "output_type": "display_data"
    }
   ],
   "source": [
    "from sklearn.metrics import confusion_matrix, ConfusionMatrixDisplay\n",
    "import itertools\n",
    "\n",
    "cm = confusion_matrix(testY, y_pred)\n",
    "disp = ConfusionMatrixDisplay(confusion_matrix=cm)\n",
    "disp.plot()\n",
    "\n",
    "plt.show()"
   ]
  },
  {
   "cell_type": "markdown",
   "metadata": {},
   "source": [
    "#### Classification report"
   ]
  },
  {
   "cell_type": "code",
   "execution_count": 20,
   "metadata": {
    "colab": {
     "base_uri": "https://localhost:8080/"
    },
    "id": "hYFanjNVa8NO",
    "outputId": "d10d2a1e-2884-492d-ca7d-5850d8906ff2"
   },
   "outputs": [
    {
     "name": "stdout",
     "output_type": "stream",
     "text": [
      "              precision    recall  f1-score   support\n",
      "\n",
      "           0       1.00      1.00      1.00      1000\n",
      "           7       1.00      1.00      1.00      1000\n",
      "\n",
      "    accuracy                           1.00      2000\n",
      "   macro avg       1.00      1.00      1.00      2000\n",
      "weighted avg       1.00      1.00      1.00      2000\n",
      "\n"
     ]
    }
   ],
   "source": [
    "target_names = ['0','7'] \n",
    "print(classification_report(test_filter_arr_y, y_pred, target_names=target_names))"
   ]
  },
  {
   "cell_type": "markdown",
   "metadata": {
    "id": "s6_ug9JLjmM8"
   },
   "source": [
    "---\n",
    "<br>\n",
    "\n",
    "\n",
    "# Neural Network with Pytorch (Multiclass Classification)"
   ]
  },
  {
   "cell_type": "markdown",
   "metadata": {
    "id": "Dn9kBnoOkJ7B"
   },
   "source": [
    "## Import Libraries"
   ]
  },
  {
   "cell_type": "code",
   "execution_count": 21,
   "metadata": {
    "colab": {
     "base_uri": "https://localhost:8080/"
    },
    "id": "0L5QXTC5kK9F",
    "outputId": "5a0cfab6-9bb0-487b-8ee0-a417d5040e89"
   },
   "outputs": [
    {
     "name": "stdout",
     "output_type": "stream",
     "text": [
      "Using cuda device\n"
     ]
    }
   ],
   "source": [
    "import torch\n",
    "from sklearn.model_selection import train_test_split\n",
    "from sklearn.datasets import fetch_openml\n",
    "import matplotlib.pyplot as plt\n",
    "device = \"cuda\" if torch.cuda.is_available() else \"cpu\"\n",
    "print(f\"Using {device} device\")"
   ]
  },
  {
   "cell_type": "markdown",
   "metadata": {
    "id": "pcLzuIa3kOQ_"
   },
   "source": [
    "## Load Dataset"
   ]
  },
  {
   "cell_type": "code",
   "execution_count": 22,
   "metadata": {
    "colab": {
     "base_uri": "https://localhost:8080/",
     "height": 282
    },
    "id": "ZW8YzARzxz9A",
    "outputId": "0a6f95e2-3958-47fc-8914-db461cab7271"
   },
   "outputs": [
    {
     "name": "stdout",
     "output_type": "stream",
     "text": [
      "(28, 28)\n"
     ]
    },
    {
     "data": {
      "image/png": "[encoded data removed]",
      "text/plain": [
       "<Figure size 432x288 with 1 Axes>"
      ]
     },
     "metadata": {
      "needs_background": "light"
     },
     "output_type": "display_data"
    }
   ],
   "source": [
    "fashion_mnist = keras.datasets.fashion_mnist\n",
    "\n",
    "(X_train, y_train), (X_test, y_test) = fashion_mnist.load_data()\n",
    "print(X_test[1].shape)\n",
    "plt.imshow(X_test[1])\n",
    "plt.show()"
   ]
  },
  {
   "cell_type": "markdown",
   "metadata": {
    "id": "yZFzsuo_Nhyt"
   },
   "source": [
    "## Data preprocessing"
   ]
  },
  {
   "cell_type": "markdown",
   "metadata": {
    "id": "dOT8MMvTM_Dr"
   },
   "source": [
    "### Normalize The Data - Feature scaling"
   ]
  },
  {
   "cell_type": "code",
   "execution_count": 23,
   "metadata": {
    "id": "QKbtnDOrNEJp"
   },
   "outputs": [],
   "source": [
    "X_train = X_train/255.0\n",
    "X_test = X_test/255.0"
   ]
  },
  {
   "cell_type": "markdown",
   "metadata": {
    "id": "SSOkp-X9Z1ho"
   },
   "source": [
    "### Split to validation group"
   ]
  },
  {
   "cell_type": "code",
   "execution_count": 24,
   "metadata": {
    "id": "Cqf4x4K0Z5iB"
   },
   "outputs": [],
   "source": [
    "train_x, val_x, train_y, val_y = train_test_split(X_train, y_train, test_size=0.25, random_state=1)"
   ]
  },
  {
   "cell_type": "markdown",
   "metadata": {
    "id": "kScPYO28NCKs"
   },
   "source": [
    "### Prepare the data"
   ]
  },
  {
   "cell_type": "code",
   "execution_count": 25,
   "metadata": {
    "colab": {
     "base_uri": "https://localhost:8080/"
    },
    "id": "84Z8J0U0N7u0",
    "outputId": "7561bbee-b12e-4551-8771-3f5e2d5716b5"
   },
   "outputs": [
    {
     "name": "stderr",
     "output_type": "stream",
     "text": [
      "<ipython-input-25-b8a2e5a1a24f>:9: UserWarning: The given NumPy array is not writable, and PyTorch does not support non-writable tensors. This means writing to this tensor will result in undefined behavior. You may want to copy the array to protect its data or make it writable before converting it to a tensor. This type of warning will be suppressed for the rest of this program. (Triggered internally at ../torch/csrc/utils/tensor_numpy.cpp:199.)\n",
      "  test_dataset = MyDataset(torch.from_numpy(X_test).float(),torch.from_numpy(y_test))\n"
     ]
    }
   ],
   "source": [
    "train_dataset = MyDataset(torch.from_numpy(train_x).float(),torch.from_numpy(train_y))\n",
    "train_loader_args = dict(shuffle = True,batch_size = 256, num_workers = 0)\n",
    "train_loader = DataLoader(train_dataset, **train_loader_args)\n",
    "\n",
    "val_dataset = MyDataset(torch.from_numpy(val_x).float(),torch.from_numpy(val_y))\n",
    "val_loader_args = dict(shuffle = True,batch_size = 256, num_workers = 0)\n",
    "val_loader = DataLoader(val_dataset, **val_loader_args)\n",
    "\n",
    "test_dataset = MyDataset(torch.from_numpy(X_test).float(),torch.from_numpy(y_test))\n",
    "test_loader_args = dict(shuffle = True,batch_size = 256, num_workers = 0)\n",
    "test_loader = DataLoader(test_dataset, **test_loader_args)"
   ]
  },
  {
   "cell_type": "markdown",
   "metadata": {
    "id": "Zcr6QaXFkmI4"
   },
   "source": [
    "### Build the network layers"
   ]
  },
  {
   "cell_type": "markdown",
   "metadata": {
    "id": "xMTvB9TolhcG"
   },
   "source": [
    "## Models"
   ]
  },
  {
   "cell_type": "markdown",
   "metadata": {
    "id": "3BpcSL3MPcoD"
   },
   "source": [
    "### Base Model"
   ]
  },
  {
   "cell_type": "code",
   "execution_count": 26,
   "metadata": {
    "colab": {
     "base_uri": "https://localhost:8080/"
    },
    "id": "LsS6mvSBPi9b",
    "outputId": "f6b80232-77c5-4af8-d963-06d3d62525b8"
   },
   "outputs": [
    {
     "name": "stdout",
     "output_type": "stream",
     "text": [
      "NeuralNetwork(\n",
      "  (net): Sequential(\n",
      "    (0): Linear(in_features=784, out_features=256, bias=True)\n",
      "    (1): ReLU()\n",
      "    (2): Linear(in_features=256, out_features=10, bias=True)\n",
      "  )\n",
      ")\n"
     ]
    }
   ],
   "source": [
    "baseModel = NeuralNetwork([784,256,10]).to(device)\n",
    "\n",
    "print(baseModel)"
   ]
  },
  {
   "cell_type": "markdown",
   "metadata": {
    "id": "9MvRhItqZMNN"
   },
   "source": [
    "### Loss func"
   ]
  },
  {
   "cell_type": "code",
   "execution_count": 27,
   "metadata": {
    "id": "Zy9tAd0MZOKA"
   },
   "outputs": [],
   "source": [
    "loss = nn.CrossEntropyLoss()"
   ]
  },
  {
   "cell_type": "markdown",
   "metadata": {
    "id": "6wCKb2kMZGdQ"
   },
   "source": [
    "### Optimizer"
   ]
  },
  {
   "cell_type": "code",
   "execution_count": 28,
   "metadata": {
    "id": "FfYoMOuHZIqA"
   },
   "outputs": [],
   "source": [
    "from torch import optim\n",
    "optimizer = optim.SGD(baseModel.parameters(), lr= 0.01)"
   ]
  },
  {
   "cell_type": "markdown",
   "metadata": {
    "id": "HxbgY1GqP0FM"
   },
   "source": [
    "### Training"
   ]
  },
  {
   "cell_type": "code",
   "execution_count": 29,
   "metadata": {
    "colab": {
     "base_uri": "https://localhost:8080/"
    },
    "id": "p9ppS8K0P2q2",
    "outputId": "7dd00671-901a-4c78-8b8d-22ad565d4e39"
   },
   "outputs": [
    {
     "name": "stdout",
     "output_type": "stream",
     "text": [
      "Train Loss is  1.8787850148298524  and time is  0.8645343780517578 s\n",
      "Train acc is  49.388888888888886 %\n",
      "Test Loss  1.4683414616827237\n",
      "Test Acc  63.64666666666666 %\n",
      "Train Loss is  1.2329048839482395  and time is  0.8424906730651855 s\n",
      "Train acc is  65.93111111111111 %\n",
      "Test Loss  1.0566035872798856\n",
      "Test Acc  67.22666666666667 %\n",
      "Train Loss is  0.9677659625356848  and time is  0.8499698638916016 s\n",
      "Train acc is  68.79111111111112 %\n",
      "Test Loss  0.8941108008562508\n",
      "Test Acc  69.83333333333334 %\n",
      "Train Loss is  0.8487093807621435  and time is  1.0087406635284424 s\n",
      "Train acc is  71.34888888888888 %\n",
      "Test Loss  0.8081613506300974\n",
      "Test Acc  72.38 %\n",
      "Train Loss is  0.7797169864855029  and time is  0.8711552619934082 s\n",
      "Train acc is  73.69555555555556 %\n",
      "Test Loss  0.7538871037758003\n",
      "Test Acc  74.80666666666667 %\n",
      "Train Loss is  0.7318069582635706  and time is  0.8371944427490234 s\n",
      "Train acc is  75.42222222222222 %\n",
      "Test Loss  0.7140245225469944\n",
      "Test Acc  76.12666666666667 %\n",
      "Train Loss is  0.6955091279338707  and time is  0.8339667320251465 s\n",
      "Train acc is  76.67555555555555 %\n",
      "Test Loss  0.6824913580538863\n",
      "Test Acc  77.48 %\n",
      "Train Loss is  0.6658906902779232  and time is  0.8241615295410156 s\n",
      "Train acc is  77.74 %\n",
      "Test Loss  0.6543911917734955\n",
      "Test Acc  78.58666666666667 %\n",
      "Train Loss is  0.641472885554487  and time is  0.8403167724609375 s\n",
      "Train acc is  78.61111111111111 %\n",
      "Test Loss  0.632166022971525\n",
      "Test Acc  79.37333333333333 %\n",
      "Train Loss is  0.6205567770044912  and time is  0.9937212467193604 s\n",
      "Train acc is  79.38 %\n",
      "Test Loss  0.6133648248042091\n",
      "Test Acc  79.88 %\n",
      "Train Loss is  0.603090719573877  and time is  0.8380675315856934 s\n",
      "Train acc is  79.98666666666666 %\n",
      "Test Loss  0.5981196786387492\n",
      "Test Acc  80.36666666666666 %\n",
      "Train Loss is  0.5878876310519197  and time is  0.8603348731994629 s\n",
      "Train acc is  80.38 %\n",
      "Test Loss  0.583051449666589\n",
      "Test Acc  80.60666666666667 %\n",
      "Train Loss is  0.5744311691007831  and time is  0.880812406539917 s\n",
      "Train acc is  80.83555555555556 %\n",
      "Test Loss  0.5701221828743562\n",
      "Test Acc  80.99333333333333 %\n",
      "Train Loss is  0.5628901521929286  and time is  0.8516461849212646 s\n",
      "Train acc is  81.26222222222222 %\n",
      "Test Loss  0.5603788621344808\n",
      "Test Acc  81.32666666666667 %\n",
      "Train Loss is  0.5528134901753881  and time is  0.8218131065368652 s\n",
      "Train acc is  81.55333333333333 %\n",
      "Test Loss  0.551365259845378\n",
      "Test Acc  81.48666666666666 %\n"
     ]
    }
   ],
   "source": [
    "numner_of_epochs = 15\n",
    "\n",
    "train_eval_losses=[]\n",
    "train_eval_accu=[]\n",
    "val_eval_losses=[]\n",
    "val_eval_accu=[]\n",
    "\n",
    "for epoch in range(numner_of_epochs):\n",
    "  multi_train_loss, multi_train_acc = train_epoch_multi(baseModel,train_loader,loss,optimizer)\n",
    "  train_eval_losses.append(multi_train_loss)\n",
    "  train_eval_accu.append(multi_train_acc)\n",
    "  val_loss,val_acc = test_model_multi(baseModel,val_loader,loss)\n",
    "  val_eval_losses.append(val_loss)\n",
    "  val_eval_accu.append(val_acc)"
   ]
  },
  {
   "cell_type": "markdown",
   "metadata": {
    "id": "5fN4S6wwSlfH"
   },
   "source": [
    "### Draw graph funtion"
   ]
  },
  {
   "cell_type": "code",
   "execution_count": 30,
   "metadata": {
    "id": "AWjsfpmlR4DM"
   },
   "outputs": [],
   "source": [
    "def draw_graph(train,val,label):\n",
    "  plt.plot(train,color='b',label='train',linestyle='--'),plt.plot(val,color='r',label='val')\n",
    "  plt.xlabel('epochs')\n",
    "  plt.ylabel(label)\n",
    "  plt.legend()"
   ]
  },
  {
   "cell_type": "markdown",
   "metadata": {
    "id": "2XYoi0uPPNxg"
   },
   "source": [
    "### Model train/val losses"
   ]
  },
  {
   "cell_type": "code",
   "execution_count": 31,
   "metadata": {
    "colab": {
     "base_uri": "https://localhost:8080/",
     "height": 279
    },
    "id": "0H8QHisKPXZD",
    "outputId": "91a90370-53e6-4be5-f465-00f299280e1a"
   },
   "outputs": [
    {
     "data": {
      "image/png": "[encoded data removed]",
      "text/plain": [
       "<Figure size 432x288 with 1 Axes>"
      ]
     },
     "metadata": {
      "needs_background": "light"
     },
     "output_type": "display_data"
    }
   ],
   "source": [
    "draw_graph(train_eval_losses,val_eval_losses,'loss')\n"
   ]
  },
  {
   "cell_type": "markdown",
   "metadata": {
    "id": "ug_J2hZlQrRh"
   },
   "source": [
    "### Model train/val accuracy"
   ]
  },
  {
   "cell_type": "code",
   "execution_count": 32,
   "metadata": {
    "colab": {
     "base_uri": "https://localhost:8080/",
     "height": 279
    },
    "id": "DaAYMaX8QpC3",
    "outputId": "ad0b4912-4a84-402b-a61e-c068d207f838"
   },
   "outputs": [
    {
     "data": {
      "image/png": "[encoded data removed]",
      "text/plain": [
       "<Figure size 432x288 with 1 Axes>"
      ]
     },
     "metadata": {
      "needs_background": "light"
     },
     "output_type": "display_data"
    }
   ],
   "source": [
    "draw_graph(train_eval_accu,val_eval_accu,'accuracy')\n"
   ]
  },
  {
   "cell_type": "markdown",
   "metadata": {
    "id": "DMN5_4AMQ3aU"
   },
   "source": [
    "### Test"
   ]
  },
  {
   "cell_type": "code",
   "execution_count": 33,
   "metadata": {
    "id": "H_6aF892Q5TS"
   },
   "outputs": [],
   "source": [
    "from sklearn.metrics import accuracy_score\n",
    "\n",
    "y_pred = baseModel.predict(X_test)\n"
   ]
  },
  {
   "cell_type": "markdown",
   "metadata": {
    "id": "Y4utQhYDYMfA"
   },
   "source": [
    "### Model Evaluation"
   ]
  },
  {
   "cell_type": "code",
   "execution_count": 34,
   "metadata": {
    "colab": {
     "base_uri": "https://localhost:8080/"
    },
    "id": "QbdOOdgJY7s3",
    "outputId": "48b79336-5b48-4fac-f920-9ebf3f6d36e7"
   },
   "outputs": [
    {
     "name": "stdout",
     "output_type": "stream",
     "text": [
      "Accuracy: 0.8043\n"
     ]
    }
   ],
   "source": [
    "print(\"Accuracy:\", accuracy_score(test_dataset.Y.tolist(),y_pred))"
   ]
  },
  {
   "cell_type": "code",
   "execution_count": 35,
   "metadata": {
    "colab": {
     "base_uri": "https://localhost:8080/"
    },
    "id": "qXAynBTEaDxa",
    "outputId": "5cf90b1a-550a-4a22-c658-d16848eb259c"
   },
   "outputs": [
    {
     "name": "stdout",
     "output_type": "stream",
     "text": [
      "              precision    recall  f1-score   support\n",
      "\n",
      "           0       0.79      0.76      0.78      1000\n",
      "           1       0.96      0.94      0.95      1000\n",
      "           2       0.72      0.64      0.68      1000\n",
      "           3       0.79      0.85      0.82      1000\n",
      "           4       0.66      0.80      0.72      1000\n",
      "           5       0.94      0.82      0.87      1000\n",
      "           6       0.57      0.48      0.52      1000\n",
      "           7       0.84      0.89      0.86      1000\n",
      "           8       0.91      0.94      0.92      1000\n",
      "           9       0.86      0.93      0.90      1000\n",
      "\n",
      "    accuracy                           0.80     10000\n",
      "   macro avg       0.80      0.80      0.80     10000\n",
      "weighted avg       0.80      0.80      0.80     10000\n",
      "\n"
     ]
    }
   ],
   "source": [
    "target_names = [str(i) for i in range(10)]\n",
    "print(classification_report(y_test, y_pred, target_names=target_names))"
   ]
  },
  {
   "cell_type": "markdown",
   "metadata": {
    "id": "eKieQwhOlA3m"
   },
   "source": [
    "### Experiment number 1"
   ]
  },
  {
   "cell_type": "code",
   "execution_count": 36,
   "metadata": {
    "colab": {
     "base_uri": "https://localhost:8080/"
    },
    "id": "lt6kO7_2YKeg",
    "outputId": "37129612-7f46-4b0f-c1df-d62fe6e4d7e3"
   },
   "outputs": [
    {
     "name": "stdout",
     "output_type": "stream",
     "text": [
      "NeuralNetwork(\n",
      "  (net): Sequential(\n",
      "    (0): Linear(in_features=784, out_features=256, bias=True)\n",
      "    (1): ReLU()\n",
      "    (2): Linear(in_features=256, out_features=128, bias=True)\n",
      "    (3): ReLU()\n",
      "    (4): Linear(in_features=128, out_features=10, bias=True)\n",
      "  )\n",
      ")\n"
     ]
    }
   ],
   "source": [
    "exModel01 = NeuralNetwork([784,256,128,10]).to(device)\n",
    "\n",
    "print(exModel01)"
   ]
  },
  {
   "cell_type": "markdown",
   "metadata": {
    "id": "E5e_ywK6ZS-I"
   },
   "source": [
    "### Loss func"
   ]
  },
  {
   "cell_type": "code",
   "execution_count": 37,
   "metadata": {
    "id": "iXC0jSi1ZUrZ"
   },
   "outputs": [],
   "source": [
    "loss = nn.CrossEntropyLoss()"
   ]
  },
  {
   "cell_type": "markdown",
   "metadata": {
    "id": "DBgCiwblYYDV"
   },
   "source": [
    "#### Train the model"
   ]
  },
  {
   "cell_type": "code",
   "execution_count": 38,
   "metadata": {
    "colab": {
     "base_uri": "https://localhost:8080/"
    },
    "id": "O_ieLTX1YcXY",
    "outputId": "3ef7e6b1-b113-457b-d115-70816bb61c74"
   },
   "outputs": [
    {
     "name": "stdout",
     "output_type": "stream",
     "text": [
      "Train Loss is  2.1822118962352928  and time is  0.8865315914154053 s\n",
      "Train acc is  34.82666666666667 %\n",
      "Test Loss  2.009564795736539\n",
      "Test Acc  56.54666666666667 %\n",
      "Train Loss is  1.716660842976787  and time is  0.8803050518035889 s\n",
      "Train acc is  58.9 %\n",
      "Test Loss  1.424493531049308\n",
      "Test Acc  60.85333333333334 %\n",
      "Train Loss is  1.2479980005459352  and time is  0.8720700740814209 s\n",
      "Train acc is  62.67777777777778 %\n",
      "Test Loss  1.099589056887869\n",
      "Test Acc  62.906666666666666 %\n",
      "Train Loss is  1.0163029066540978  and time is  0.9069418907165527 s\n",
      "Train acc is  65.57111111111111 %\n",
      "Test Loss  0.9396120501776873\n",
      "Test Acc  66.25333333333333 %\n",
      "Train Loss is  0.8926648267290809  and time is  0.8888764381408691 s\n",
      "Train acc is  67.92 %\n",
      "Test Loss  0.8461726802890583\n",
      "Test Acc  69.09333333333333 %\n",
      "Train Loss is  0.8152020465243947  and time is  0.8756158351898193 s\n",
      "Train acc is  69.92 %\n",
      "Test Loss  0.7868633886515084\n",
      "Test Acc  70.82000000000001 %\n",
      "Train Loss is  0.7617734802717512  and time is  0.8822665214538574 s\n",
      "Train acc is  71.83111111111111 %\n",
      "Test Loss  0.7404573913347923\n",
      "Test Acc  72.3 %\n",
      "Train Loss is  0.7207990928807042  and time is  0.8958635330200195 s\n",
      "Train acc is  73.76888888888888 %\n",
      "Test Loss  0.7032110165741484\n",
      "Test Acc  74.14666666666668 %\n",
      "Train Loss is  0.6873202046210115  and time is  0.9039065837860107 s\n",
      "Train acc is  75.44888888888889 %\n",
      "Test Loss  0.6724136774822816\n",
      "Test Acc  75.86666666666667 %\n",
      "Train Loss is  0.6584799794310873  and time is  0.8765838146209717 s\n",
      "Train acc is  76.87333333333333 %\n",
      "Test Loss  0.6468838241140721\n",
      "Test Acc  77.7 %\n",
      "Train Loss is  0.6336293420331045  and time is  0.8891317844390869 s\n",
      "Train acc is  77.97555555555556 %\n",
      "Test Loss  0.6221094697208728\n",
      "Test Acc  78.90666666666667 %\n",
      "Train Loss is  0.6112438138913024  and time is  0.8826498985290527 s\n",
      "Train acc is  79.0311111111111 %\n",
      "Test Loss  0.6020870274406368\n",
      "Test Acc  79.30666666666667 %\n",
      "Train Loss is  0.592029461467808  and time is  0.8864765167236328 s\n",
      "Train acc is  79.86666666666666 %\n",
      "Test Loss  0.5839452127278861\n",
      "Test Acc  80.10666666666667 %\n",
      "Train Loss is  0.5742609075863253  and time is  0.8926777839660645 s\n",
      "Train acc is  80.47999999999999 %\n",
      "Test Loss  0.5688831457647227\n",
      "Test Acc  80.62 %\n",
      "Train Loss is  0.5601386041803793  and time is  0.8728518486022949 s\n",
      "Train acc is  80.98444444444445 %\n",
      "Test Loss  0.5539562308182151\n",
      "Test Acc  81.27333333333333 %\n"
     ]
    }
   ],
   "source": [
    "numner_of_epochs = 15\n",
    "optimizer = optim.SGD(exModel01.parameters(), lr= 0.01)\n",
    "\n",
    "train_eval_losses=[]\n",
    "train_eval_accu=[]\n",
    "val_eval_losses=[]\n",
    "val_eval_accu=[]\n",
    "\n",
    "for epoch in range(numner_of_epochs):\n",
    "  multi_train_loss, multi_train_acc = train_epoch_multi(exModel01,train_loader,loss,optimizer)\n",
    "  train_eval_losses.append(multi_train_loss)\n",
    "  train_eval_accu.append(multi_train_acc)\n",
    "  val_loss,val_acc = test_model_multi(exModel01,val_loader,loss)\n",
    "  val_eval_losses.append(val_loss)\n",
    "  val_eval_accu.append(val_acc)"
   ]
  },
  {
   "cell_type": "markdown",
   "metadata": {
    "id": "S4KmrkVpTsYu"
   },
   "source": [
    "### Model train/val losses"
   ]
  },
  {
   "cell_type": "code",
   "execution_count": 39,
   "metadata": {
    "colab": {
     "base_uri": "https://localhost:8080/",
     "height": 279
    },
    "id": "I5XcGEbTTu5o",
    "outputId": "d1507d04-a4d1-490e-af28-a47fe625e12a"
   },
   "outputs": [
    {
     "data": {
      "image/png": "[encoded data removed]",
      "text/plain": [
       "<Figure size 432x288 with 1 Axes>"
      ]
     },
     "metadata": {
      "needs_background": "light"
     },
     "output_type": "display_data"
    }
   ],
   "source": [
    "draw_graph(train_eval_losses,val_eval_losses,'loss')"
   ]
  },
  {
   "cell_type": "markdown",
   "metadata": {
    "id": "1lf8hBwtTxZN"
   },
   "source": [
    "### Model train/val accuracy"
   ]
  },
  {
   "cell_type": "code",
   "execution_count": 40,
   "metadata": {
    "colab": {
     "base_uri": "https://localhost:8080/",
     "height": 279
    },
    "id": "Cis6Lv8vT0bv",
    "outputId": "c4523d93-1ccf-414a-d0ad-8179d9e90d44"
   },
   "outputs": [
    {
     "data": {
      "image/png": "[encoded data removed]",
      "text/plain": [
       "<Figure size 432x288 with 1 Axes>"
      ]
     },
     "metadata": {
      "needs_background": "light"
     },
     "output_type": "display_data"
    }
   ],
   "source": [
    "draw_graph(train_eval_accu,val_eval_accu,'accuracy')"
   ]
  },
  {
   "cell_type": "markdown",
   "metadata": {
    "id": "LjSFWk9TXuvR"
   },
   "source": [
    "### Test"
   ]
  },
  {
   "cell_type": "code",
   "execution_count": 41,
   "metadata": {
    "id": "jsKq6zcxXt4Y"
   },
   "outputs": [],
   "source": [
    "y_pred = exModel01.predict(X_test)"
   ]
  },
  {
   "cell_type": "markdown",
   "metadata": {
    "id": "z8G6hnLtW_q2"
   },
   "source": [
    "### Model Evaluation"
   ]
  },
  {
   "cell_type": "code",
   "execution_count": 42,
   "metadata": {
    "colab": {
     "base_uri": "https://localhost:8080/"
    },
    "id": "Su_KEaL0ZA05",
    "outputId": "d2709a0f-38e6-42e0-bdaa-cb4b9dec6f2c"
   },
   "outputs": [
    {
     "name": "stdout",
     "output_type": "stream",
     "text": [
      "Accuracy: 0.8005\n"
     ]
    }
   ],
   "source": [
    "print(\"Accuracy:\", accuracy_score(test_dataset.Y.tolist(),y_pred))"
   ]
  },
  {
   "cell_type": "code",
   "execution_count": 43,
   "metadata": {
    "colab": {
     "base_uri": "https://localhost:8080/"
    },
    "id": "-a8-is0KbCJK",
    "outputId": "453d047f-ce6b-41ea-ab8b-dcb3506f7677"
   },
   "outputs": [
    {
     "name": "stdout",
     "output_type": "stream",
     "text": [
      "              precision    recall  f1-score   support\n",
      "\n",
      "           0       0.74      0.81      0.77      1000\n",
      "           1       0.97      0.93      0.95      1000\n",
      "           2       0.69      0.68      0.69      1000\n",
      "           3       0.81      0.83      0.82      1000\n",
      "           4       0.67      0.74      0.70      1000\n",
      "           5       0.93      0.86      0.89      1000\n",
      "           6       0.53      0.42      0.47      1000\n",
      "           7       0.87      0.86      0.87      1000\n",
      "           8       0.91      0.94      0.92      1000\n",
      "           9       0.86      0.94      0.90      1000\n",
      "\n",
      "    accuracy                           0.80     10000\n",
      "   macro avg       0.80      0.80      0.80     10000\n",
      "weighted avg       0.80      0.80      0.80     10000\n",
      "\n"
     ]
    }
   ],
   "source": [
    "print(classification_report(y_test, y_pred, target_names=target_names))"
   ]
  },
  {
   "cell_type": "markdown",
   "metadata": {
    "id": "SK-L3P-XlDSQ"
   },
   "source": [
    "### Experiment number 2"
   ]
  },
  {
   "cell_type": "code",
   "execution_count": 44,
   "metadata": {
    "colab": {
     "base_uri": "https://localhost:8080/"
    },
    "id": "2pmdSP8MwYRJ",
    "outputId": "e2df67e3-2183-42f0-dd79-7eda7d309755"
   },
   "outputs": [
    {
     "name": "stdout",
     "output_type": "stream",
     "text": [
      "NeuralNetwork(\n",
      "  (net): Sequential(\n",
      "    (0): Linear(in_features=784, out_features=256, bias=True)\n",
      "    (1): ReLU()\n",
      "    (2): Linear(in_features=256, out_features=10, bias=True)\n",
      "  )\n",
      ")\n"
     ]
    }
   ],
   "source": [
    "exModel02 = NeuralNetwork([784,256,10]).to(device)\n",
    "\n",
    "optimizer = optim.Adam(exModel02.parameters())\n",
    "\n",
    "print(exModel02)"
   ]
  },
  {
   "cell_type": "markdown",
   "metadata": {
    "id": "hbBrmH2uxW9l"
   },
   "source": [
    "### Changing batch size"
   ]
  },
  {
   "cell_type": "code",
   "execution_count": 45,
   "metadata": {
    "id": "jsMU-9Brxbh8"
   },
   "outputs": [],
   "source": [
    "train_dataset = MyDataset(torch.from_numpy(train_x).float(),torch.from_numpy(train_y))\n",
    "train_loader_args = dict(shuffle = True,batch_size = 64, num_workers = 0)\n",
    "train_loader = DataLoader(train_dataset, **train_loader_args)\n",
    "\n",
    "val_dataset = MyDataset(torch.from_numpy(val_x).float(),torch.from_numpy(val_y))\n",
    "val_loader_args = dict(shuffle = True,batch_size = 64, num_workers = 0)\n",
    "val_loader = DataLoader(val_dataset, **val_loader_args)\n",
    "\n",
    "test_dataset = MyDataset(torch.from_numpy(X_test).float(),torch.from_numpy(y_test))\n",
    "test_loader_args = dict(shuffle = True,batch_size = 64, num_workers = 0)\n",
    "test_loader = DataLoader(test_dataset, **test_loader_args)"
   ]
  },
  {
   "cell_type": "markdown",
   "metadata": {
    "id": "yu76PLhawo-R"
   },
   "source": [
    "#### Train the model"
   ]
  },
  {
   "cell_type": "code",
   "execution_count": 46,
   "metadata": {
    "colab": {
     "base_uri": "https://localhost:8080/"
    },
    "id": "cZDmNPzkwgZe",
    "outputId": "52ff2880-e635-4292-8fd9-4ad0fa8a2cdd"
   },
   "outputs": [
    {
     "name": "stdout",
     "output_type": "stream",
     "text": [
      "Train Loss is  0.5501225563189522  and time is  1.7639446258544922 s\n",
      "Train acc is  80.86666666666666 %\n",
      "Test Loss  0.4362320141589388\n",
      "Test Acc  84.84666666666666 %\n",
      "Train Loss is  0.4028692315015095  and time is  1.749495506286621 s\n",
      "Train acc is  85.49555555555555 %\n",
      "Test Loss  0.3978784392488764\n",
      "Test Acc  85.82 %\n",
      "Train Loss is  0.3589482482057065  and time is  1.777146816253662 s\n",
      "Train acc is  86.96444444444444 %\n",
      "Test Loss  0.3623908963609249\n",
      "Test Acc  86.80666666666667 %\n",
      "Train Loss is  0.3305698408194902  and time is  1.740731954574585 s\n",
      "Train acc is  87.76 %\n",
      "Test Loss  0.37254386100363224\n",
      "Test Acc  86.28666666666666 %\n",
      "Train Loss is  0.30754308062817226  and time is  1.6864299774169922 s\n",
      "Train acc is  88.69777777777777 %\n",
      "Test Loss  0.3388768527736055\n",
      "Test Acc  87.74 %\n",
      "Train Loss is  0.2913681129311127  and time is  2.0923521518707275 s\n",
      "Train acc is  89.29555555555555 %\n",
      "Test Loss  0.3276096902312116\n",
      "Test Acc  88.13333333333333 %\n",
      "Train Loss is  0.27915278072892263  and time is  2.12796950340271 s\n",
      "Train acc is  89.67777777777778 %\n",
      "Test Loss  0.31697043643352835\n",
      "Test Acc  88.74666666666667 %\n",
      "Train Loss is  0.26722335910678585  and time is  1.7194411754608154 s\n",
      "Train acc is  90.15555555555555 %\n",
      "Test Loss  0.31416940010608513\n",
      "Test Acc  88.62666666666667 %\n"
     ]
    }
   ],
   "source": [
    "numner_of_epochs = 8\n",
    "\n",
    "train_eval_losses=[]\n",
    "train_eval_accu=[]\n",
    "val_eval_losses=[]\n",
    "val_eval_accu=[]\n",
    "\n",
    "for epoch in range(numner_of_epochs):\n",
    "  multi_train_loss, multi_train_acc = train_epoch_multi(exModel02,train_loader,loss,optimizer)\n",
    "  train_eval_losses.append(multi_train_loss)\n",
    "  train_eval_accu.append(multi_train_acc)\n",
    "  val_loss,val_acc = test_model_multi(exModel02,val_loader,loss)\n",
    "  val_eval_losses.append(val_loss)\n",
    "  val_eval_accu.append(val_acc)"
   ]
  },
  {
   "cell_type": "markdown",
   "metadata": {
    "id": "MJiG-deZUTUI"
   },
   "source": [
    "### Model train/val loss"
   ]
  },
  {
   "cell_type": "code",
   "execution_count": 47,
   "metadata": {
    "colab": {
     "base_uri": "https://localhost:8080/",
     "height": 279
    },
    "id": "7RQdJufCUT5h",
    "outputId": "5fa5bb6f-1161-4baf-d9f3-82740a357ee3"
   },
   "outputs": [
    {
     "data": {
      "image/png": "[encoded data removed]",
      "text/plain": [
       "<Figure size 432x288 with 1 Axes>"
      ]
     },
     "metadata": {
      "needs_background": "light"
     },
     "output_type": "display_data"
    }
   ],
   "source": [
    "draw_graph(train_eval_losses,val_eval_losses,'loss')"
   ]
  },
  {
   "cell_type": "markdown",
   "metadata": {
    "id": "WCLJIXwAUUZe"
   },
   "source": [
    "### Model train/val accuracy"
   ]
  },
  {
   "cell_type": "code",
   "execution_count": 48,
   "metadata": {
    "colab": {
     "base_uri": "https://localhost:8080/",
     "height": 279
    },
    "id": "DeLRc5JZUU0X",
    "outputId": "d3e3d0b1-1882-453d-ed31-116218c972e1"
   },
   "outputs": [
    {
     "data": {
      "image/png": "[encoded data removed]",
      "text/plain": [
       "<Figure size 432x288 with 1 Axes>"
      ]
     },
     "metadata": {
      "needs_background": "light"
     },
     "output_type": "display_data"
    }
   ],
   "source": [
    "draw_graph(train_eval_accu,val_eval_accu,'accuracy')"
   ]
  },
  {
   "cell_type": "markdown",
   "metadata": {
    "id": "R3xdhBAtYDyW"
   },
   "source": [
    "### Test"
   ]
  },
  {
   "cell_type": "code",
   "execution_count": 49,
   "metadata": {
    "id": "JbgIxpsqYFsb"
   },
   "outputs": [],
   "source": [
    "y_pred = exModel02.predict(X_test)"
   ]
  },
  {
   "cell_type": "markdown",
   "metadata": {
    "id": "6IL1doy8QauT"
   },
   "source": [
    "### Save Base model (weights)"
   ]
  },
  {
   "cell_type": "code",
   "execution_count": 50,
   "metadata": {
    "id": "HWlyDB_nQeSK"
   },
   "outputs": [],
   "source": [
    "# SAVE THE TRAINED MODEL\n",
    "PATH = \"exModel02.pt\"\n",
    "\n",
    "# Save\n",
    "torch.save(exModel02.state_dict(), PATH)\n"
   ]
  },
  {
   "cell_type": "markdown",
   "metadata": {
    "id": "OBNfpPT3RISc"
   },
   "source": [
    "### Model Evaluation"
   ]
  },
  {
   "cell_type": "code",
   "execution_count": 51,
   "metadata": {
    "colab": {
     "base_uri": "https://localhost:8080/"
    },
    "id": "dVVNYEYdZFqH",
    "outputId": "3e1f4e3f-5fc8-4caa-a713-280b9e257cf7"
   },
   "outputs": [
    {
     "name": "stdout",
     "output_type": "stream",
     "text": [
      "Accuracy: 0.8777\n"
     ]
    }
   ],
   "source": [
    "print(\"Accuracy:\", accuracy_score(test_dataset.Y.tolist(),y_pred))"
   ]
  },
  {
   "cell_type": "code",
   "execution_count": 52,
   "metadata": {
    "colab": {
     "base_uri": "https://localhost:8080/"
    },
    "id": "ftudm_anbEJP",
    "outputId": "a09b7ac3-af00-4895-b2ff-c6a3cdcb9e7c"
   },
   "outputs": [
    {
     "name": "stdout",
     "output_type": "stream",
     "text": [
      "              precision    recall  f1-score   support\n",
      "\n",
      "           0       0.79      0.88      0.83      1000\n",
      "           1       0.99      0.97      0.98      1000\n",
      "           2       0.80      0.76      0.78      1000\n",
      "           3       0.91      0.86      0.88      1000\n",
      "           4       0.78      0.81      0.79      1000\n",
      "           5       0.96      0.96      0.96      1000\n",
      "           6       0.68      0.69      0.69      1000\n",
      "           7       0.94      0.95      0.95      1000\n",
      "           8       0.98      0.96      0.97      1000\n",
      "           9       0.96      0.95      0.96      1000\n",
      "\n",
      "    accuracy                           0.88     10000\n",
      "   macro avg       0.88      0.88      0.88     10000\n",
      "weighted avg       0.88      0.88      0.88     10000\n",
      "\n"
     ]
    }
   ],
   "source": [
    "print(classification_report(y_test, y_pred, target_names=target_names))"
   ]
  },
  {
   "cell_type": "markdown",
   "metadata": {
    "id": "L0xlxiaj6xM4"
   },
   "source": [
    "## Test Environment"
   ]
  },
  {
   "cell_type": "markdown",
   "metadata": {
    "id": "-rMJ1ucy7lKB"
   },
   "source": [
    "### Load trained model"
   ]
  },
  {
   "cell_type": "code",
   "execution_count": 53,
   "metadata": {
    "colab": {
     "base_uri": "https://localhost:8080/"
    },
    "id": "I27yHolJ7naT",
    "outputId": "80963f69-2710-4bdd-eee9-d0ac4006c988"
   },
   "outputs": [
    {
     "data": {
      "text/plain": [
       "NeuralNetwork(\n",
       "  (net): Sequential(\n",
       "    (0): Linear(in_features=784, out_features=256, bias=True)\n",
       "    (1): ReLU()\n",
       "    (2): Linear(in_features=256, out_features=10, bias=True)\n",
       "  )\n",
       ")"
      ]
     },
     "execution_count": 53,
     "metadata": {},
     "output_type": "execute_result"
    }
   ],
   "source": [
    "model = NeuralNetwork([784,256,10]) \n",
    "model.load_state_dict(torch.load(PATH))\n",
    "model.eval()"
   ]
  },
  {
   "cell_type": "markdown",
   "metadata": {
    "id": "5PSVr_J-_wmX"
   },
   "source": [
    "### Single prediction\n",
    "Testing the best model, uploading the image using google colab."
   ]
  },
  {
   "cell_type": "code",
   "execution_count": 54,
   "metadata": {
    "colab": {
     "base_uri": "https://localhost:8080/",
     "height": 73
    },
    "id": "WGSD04i68JW-",
    "outputId": "99bd506a-a83f-41dc-8173-487aef84a1bb"
   },
   "outputs": [
    {
     "data": {
      "text/html": [
       "\n",
       "     <input type=\"file\" id=\"files-2aaa8787-ce04-4772-af33-4e0dc87f6269\" name=\"files[]\" multiple disabled\n",
       "        style=\"border:none\" />\n",
       "     <output id=\"result-2aaa8787-ce04-4772-af33-4e0dc87f6269\">\n",
       "      Upload widget is only available when the cell has been executed in the\n",
       "      current browser session. Please rerun this cell to enable.\n",
       "      </output>\n",
       "      <script>// Copyright 2017 Google LLC\n",
       "//\n",
       "// Licensed under the Apache License, Version 2.0 (the \"License\");\n",
       "// you may not use this file except in compliance with the License.\n",
       "// You may obtain a copy of the License at\n",
       "//\n",
       "//      http://www.apache.org/licenses/LICENSE-2.0\n",
       "//\n",
       "// Unless required by applicable law or agreed to in writing, software\n",
       "// distributed under the License is distributed on an \"AS IS\" BASIS,\n",
       "// WITHOUT WARRANTIES OR CONDITIONS OF ANY KIND, either express or implied.\n",
       "// See the License for the specific language governing permissions and\n",
       "// limitations under the License.\n",
       "\n",
       "/**\n",
       " * @fileoverview Helpers for google.colab Python module.\n",
       " */\n",
       "(function(scope) {\n",
       "function span(text, styleAttributes = {}) {\n",
       "  const element = document.createElement('span');\n",
       "  element.textContent = text;\n",
       "  for (const key of Object.keys(styleAttributes)) {\n",
       "    element.style[key] = styleAttributes[key];\n",
       "  }\n",
       "  return element;\n",
       "}\n",
       "\n",
       "// Max number of bytes which will be uploaded at a time.\n",
       "const MAX_PAYLOAD_SIZE = 100 * 1024;\n",
       "\n",
       "function _uploadFiles(inputId, outputId) {\n",
       "  const steps = uploadFilesStep(inputId, outputId);\n",
       "  const outputElement = document.getElementById(outputId);\n",
       "  // Cache steps on the outputElement to make it available for the next call\n",
       "  // to uploadFilesContinue from Python.\n",
       "  outputElement.steps = steps;\n",
       "\n",
       "  return _uploadFilesContinue(outputId);\n",
       "}\n",
       "\n",
       "// This is roughly an async generator (not supported in the browser yet),\n",
       "// where there are multiple asynchronous steps and the Python side is going\n",
       "// to poll for completion of each step.\n",
       "// This uses a Promise to block the python side on completion of each step,\n",
       "// then passes the result of the previous step as the input to the next step.\n",
       "function _uploadFilesContinue(outputId) {\n",
       "  const outputElement = document.getElementById(outputId);\n",
       "  const steps = outputElement.steps;\n",
       "\n",
       "  const next = steps.next(outputElement.lastPromiseValue);\n",
       "  return Promise.resolve(next.value.promise).then((value) => {\n",
       "    // Cache the last promise value to make it available to the next\n",
       "    // step of the generator.\n",
       "    outputElement.lastPromiseValue = value;\n",
       "    return next.value.response;\n",
       "  });\n",
       "}\n",
       "\n",
       "/**\n",
       " * Generator function which is called between each async step of the upload\n",
       " * process.\n",
       " * @param {string} inputId Element ID of the input file picker element.\n",
       " * @param {string} outputId Element ID of the output display.\n",
       " * @return {!Iterable<!Object>} Iterable of next steps.\n",
       " */\n",
       "function* uploadFilesStep(inputId, outputId) {\n",
       "  const inputElement = document.getElementById(inputId);\n",
       "  inputElement.disabled = false;\n",
       "\n",
       "  const outputElement = document.getElementById(outputId);\n",
       "  outputElement.innerHTML = '';\n",
       "\n",
       "  const pickedPromise = new Promise((resolve) => {\n",
       "    inputElement.addEventListener('change', (e) => {\n",
       "      resolve(e.target.files);\n",
       "    });\n",
       "  });\n",
       "\n",
       "  const cancel = document.createElement('button');\n",
       "  inputElement.parentElement.appendChild(cancel);\n",
       "  cancel.textContent = 'Cancel upload';\n",
       "  const cancelPromise = new Promise((resolve) => {\n",
       "    cancel.onclick = () => {\n",
       "      resolve(null);\n",
       "    };\n",
       "  });\n",
       "\n",
       "  // Wait for the user to pick the files.\n",
       "  const files = yield {\n",
       "    promise: Promise.race([pickedPromise, cancelPromise]),\n",
       "    response: {\n",
       "      action: 'starting',\n",
       "    }\n",
       "  };\n",
       "\n",
       "  cancel.remove();\n",
       "\n",
       "  // Disable the input element since further picks are not allowed.\n",
       "  inputElement.disabled = true;\n",
       "\n",
       "  if (!files) {\n",
       "    return {\n",
       "      response: {\n",
       "        action: 'complete',\n",
       "      }\n",
       "    };\n",
       "  }\n",
       "\n",
       "  for (const file of files) {\n",
       "    const li = document.createElement('li');\n",
       "    li.append(span(file.name, {fontWeight: 'bold'}));\n",
       "    li.append(span(\n",
       "        `(${file.type || 'n/a'}) - ${file.size} bytes, ` +\n",
       "        `last modified: ${\n",
       "            file.lastModifiedDate ? file.lastModifiedDate.toLocaleDateString() :\n",
       "                                    'n/a'} - `));\n",
       "    const percent = span('0% done');\n",
       "    li.appendChild(percent);\n",
       "\n",
       "    outputElement.appendChild(li);\n",
       "\n",
       "    const fileDataPromise = new Promise((resolve) => {\n",
       "      const reader = new FileReader();\n",
       "      reader.onload = (e) => {\n",
       "        resolve(e.target.result);\n",
       "      };\n",
       "      reader.readAsArrayBuffer(file);\n",
       "    });\n",
       "    // Wait for the data to be ready.\n",
       "    let fileData = yield {\n",
       "      promise: fileDataPromise,\n",
       "      response: {\n",
       "        action: 'continue',\n",
       "      }\n",
       "    };\n",
       "\n",
       "    // Use a chunked sending to avoid message size limits. See b/62115660.\n",
       "    let position = 0;\n",
       "    do {\n",
       "      const length = Math.min(fileData.byteLength - position, MAX_PAYLOAD_SIZE);\n",
       "      const chunk = new Uint8Array(fileData, position, length);\n",
       "      position += length;\n",
       "\n",
       "      const base64 = btoa(String.fromCharCode.apply(null, chunk));\n",
       "      yield {\n",
       "        response: {\n",
       "          action: 'append',\n",
       "          file: file.name,\n",
       "          data: base64,\n",
       "        },\n",
       "      };\n",
       "\n",
       "      let percentDone = fileData.byteLength === 0 ?\n",
       "          100 :\n",
       "          Math.round((position / fileData.byteLength) * 100);\n",
       "      percent.textContent = `${percentDone}% done`;\n",
       "\n",
       "    } while (position < fileData.byteLength);\n",
       "  }\n",
       "\n",
       "  // All done.\n",
       "  yield {\n",
       "    response: {\n",
       "      action: 'complete',\n",
       "    }\n",
       "  };\n",
       "}\n",
       "\n",
       "scope.google = scope.google || {};\n",
       "scope.google.colab = scope.google.colab || {};\n",
       "scope.google.colab._files = {\n",
       "  _uploadFiles,\n",
       "  _uploadFilesContinue,\n",
       "};\n",
       "})(self);\n",
       "</script> "
      ],
      "text/plain": [
       "<IPython.core.display.HTML object>"
      ]
     },
     "metadata": {},
     "output_type": "display_data"
    },
    {
     "name": "stdout",
     "output_type": "stream",
     "text": [
      "Saving Shirt_6.npy to Shirt_6.npy\n"
     ]
    }
   ],
   "source": [
    "from numpy import load as load_npy\n",
    "from google.colab import files\n",
    "uploaded = files.upload()"
   ]
  },
  {
   "cell_type": "code",
   "execution_count": 55,
   "metadata": {
    "colab": {
     "base_uri": "https://localhost:8080/"
    },
    "id": "Y7SBK56880aY",
    "outputId": "6a15d572-665f-47b5-b956-d1dbe1a29f99"
   },
   "outputs": [
    {
     "data": {
      "text/plain": [
       "[6]"
      ]
     },
     "execution_count": 55,
     "metadata": {},
     "output_type": "execute_result"
    }
   ],
   "source": [
    "np_image = np.load(list(uploaded.keys())[0])\n",
    "normalize_image = np_image/255.0\n",
    "prediction_input = np.array([normalize_image.reshape(-1)])\n",
    "device = \"cuda\" if torch.cuda.is_available() else \"cpu\"\n",
    "model.to(device)\n",
    "model.predict(prediction_input)"
   ]
  }
 ],
 "metadata": {
  "accelerator": "GPU",
  "colab": {
   "collapsed_sections": [
    "XDDbguyGU8Fs",
    "JLkWLC8f3HZI",
    "WiRxNFCn3Vxd",
    "Zcr6QaXFkmI4"
   ],
   "provenance": []
  },
  "kernelspec": {
   "display_name": "Python 3 (ipykernel)",
   "language": "python",
   "name": "python3"
  },
  "language_info": {
   "codemirror_mode": {
    "name": "ipython",
    "version": 3
   },
   "file_extension": ".py",
   "mimetype": "text/x-python",
   "name": "python",
   "nbconvert_exporter": "python",
   "pygments_lexer": "ipython3",
   "version": "3.9.13"
  }
 },
 "nbformat": 4,
 "nbformat_minor": 1
}
